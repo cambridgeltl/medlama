{
 "cells": [
  {
   "cell_type": "markdown",
   "metadata": {},
   "source": [
    "### Load triples from the raw files"
   ]
  },
  {
   "cell_type": "code",
   "execution_count": 1,
   "metadata": {},
   "outputs": [],
   "source": [
    "import pandas as pd\n",
    "from tqdm.auto import tqdm\n",
    "\n",
    "umls_folder = \"/home/zm324/workspace/data/kgs/umls/2021AA\"\n",
    "random_state = 2021\n",
    "sampled_num = 1000"
   ]
  },
  {
   "cell_type": "markdown",
   "metadata": {},
   "source": [
    "### Load the final selected relation list"
   ]
  },
  {
   "cell_type": "code",
   "execution_count": 2,
   "metadata": {},
   "outputs": [
    {
     "data": {
      "application/vnd.jupyter.widget-view+json": {
       "model_id": "fa420416b13043fa98d3ab10dd5da699",
       "version_major": 2,
       "version_minor": 0
      },
      "text/plain": [
       "  0%|          | 0/19 [00:00<?, ?it/s]"
      ]
     },
     "metadata": {},
     "output_type": "display_data"
    },
    {
     "data": {
      "text/plain": [
       "['disease_has_normal_tissue_origin',\n",
       " 'disease_has_normal_cell_origin',\n",
       " 'disease_may_have_molecular_abnormality',\n",
       " 'disease_has_associated_anatomic_site',\n",
       " 'gene_product_has_associated_anatomy',\n",
       " 'gene_product_has_biochemical_function',\n",
       " 'may_prevent',\n",
       " 'disease_may_have_associated_disease',\n",
       " 'gene_associated_with_disease',\n",
       " 'disease_mapped_to_gene',\n",
       " 'disease_has_abnormal_cell',\n",
       " 'gene_product_plays_role_in_biological_process',\n",
       " 'occurs_after',\n",
       " 'has_physiologic_effect',\n",
       " 'may_treat',\n",
       " 'gene_product_encoded_by_gene',\n",
       " 'gene_encodes_gene_product',\n",
       " 'associated_morphology_of',\n",
       " 'disease_may_have_finding']"
      ]
     },
     "execution_count": 2,
     "metadata": {},
     "output_type": "execute_result"
    }
   ],
   "source": [
    "selected_rels = []\n",
    "with open(\"final_19_relation.txt\") as f:\n",
    "    lines = f.readlines()\n",
    "    for l in tqdm(lines):\n",
    "        selected_rels.append(l.strip())\n",
    "selected_rels"
   ]
  },
  {
   "cell_type": "code",
   "execution_count": 3,
   "metadata": {},
   "outputs": [
    {
     "data": {
      "application/vnd.jupyter.widget-view+json": {
       "model_id": "3f32cbb767184943b7ed5f9bcc9c7975",
       "version_major": 2,
       "version_minor": 0
      },
      "text/plain": [
       "  0%|          | 0/16132274 [00:00<?, ?it/s]"
      ]
     },
     "metadata": {},
     "output_type": "display_data"
    },
    {
     "name": "stdout",
     "output_type": "stream",
     "text": [
      "concepts num: 16132274\n"
     ]
    }
   ],
   "source": [
    "# load MRCONSO.RFF\n",
    "atom_string_map = {}\n",
    "cuid_string_map = {}\n",
    "with open(f\"{umls_folder}/META/MRCONSO.RRF\", \"r\") as f:\n",
    "    lines = f.readlines()\n",
    "\n",
    "    for l in tqdm(lines):\n",
    "        cells = l.split(\"|\")\n",
    "        cuid = cells[0]\n",
    "        aid = cells[7]\n",
    "        string = cells[14]\n",
    "        atom_string_map[aid] = string\n",
    "        cuid_string_map[cuid] = string\n",
    "print(\"concepts num:\", len(lines))"
   ]
  },
  {
   "cell_type": "markdown",
   "metadata": {},
   "source": [
    "## Read relations using additional labels"
   ]
  },
  {
   "cell_type": "code",
   "execution_count": 4,
   "metadata": {},
   "outputs": [],
   "source": [
    "concept_file = f\"{umls_folder}/META/MRREL.RRF\"\n",
    "col_names = [\n",
    "    i.strip()\n",
    "    for i in \"CUI1 | AUI1 | STYPE1 | REL | CUI2 | AUI2 | STYPE2 | RELA | RUI | SRUI | SAB | SL | RG | DIR | SUPPRESS |CVF\".split(\n",
    "        \"|\"\n",
    "    )\n",
    "] + [\"\"]\n",
    "rel_df = pd.read_csv(\n",
    "    concept_file, sep=\"|\", header=None, names=col_names, low_memory=False\n",
    ")"
   ]
  },
  {
   "cell_type": "code",
   "execution_count": 5,
   "metadata": {},
   "outputs": [],
   "source": [
    "rel_df.groupby([\"REL\"]).size().sort_values(ascending=False).to_csv(\n",
    "    \"MRREL.REL.SIZE\", sep=\"|\", header=None\n",
    ")\n",
    "rel_df.groupby([\"RELA\"]).size().sort_values(ascending=False).to_csv(\n",
    "    \"MRREL.RELA.SIZE\", sep=\"|\", header=None\n",
    ")\n",
    "rel_df.groupby([\"SAB\"]).size().sort_values(ascending=False).to_csv(\n",
    "    \"MRREL.SAB.SIZE\", sep=\"|\", header=None\n",
    ")"
   ]
  },
  {
   "cell_type": "code",
   "execution_count": 6,
   "metadata": {},
   "outputs": [],
   "source": [
    "rel_df.groupby([\"REL\"])[\"RELA\"].nunique().sort_values(ascending=False).to_csv(\n",
    "    \"MRREL.REL.RELA.SIZE\", sep=\"|\", header=None\n",
    ")"
   ]
  },
  {
   "cell_type": "code",
   "execution_count": 7,
   "metadata": {},
   "outputs": [
    {
     "name": "stdout",
     "output_type": "stream",
     "text": [
      "19 558730\n"
     ]
    }
   ],
   "source": [
    "rel_df = rel_df[rel_df.RELA.isin(selected_rels)]\n",
    "rel_df = rel_df[rel_df.SAB.isin([\"SNOMEDCT_US\", \"NCI\", \"MED-RT\"])]\n",
    "print(rel_df.RELA.nunique(), len(rel_df.index))"
   ]
  },
  {
   "cell_type": "code",
   "execution_count": 8,
   "metadata": {},
   "outputs": [],
   "source": [
    "rel_df[\"STR1\"] = rel_df.apply(\n",
    "    lambda x: atom_string_map[x.AUI1]\n",
    "    if x.AUI1 in atom_string_map\n",
    "    else cuid_string_map[x.CUI1],\n",
    "    axis=1,\n",
    ")\n",
    "rel_df[\"STR2\"] = rel_df.apply(\n",
    "    lambda x: atom_string_map[x.AUI2]\n",
    "    if x.AUI2 in atom_string_map\n",
    "    else cuid_string_map[x.CUI2],\n",
    "    axis=1,\n",
    ")"
   ]
  },
  {
   "cell_type": "code",
   "execution_count": 9,
   "metadata": {},
   "outputs": [
    {
     "data": {
      "text/html": [
       "<div>\n",
       "<style scoped>\n",
       "    .dataframe tbody tr th:only-of-type {\n",
       "        vertical-align: middle;\n",
       "    }\n",
       "\n",
       "    .dataframe tbody tr th {\n",
       "        vertical-align: top;\n",
       "    }\n",
       "\n",
       "    .dataframe thead th {\n",
       "        text-align: right;\n",
       "    }\n",
       "</style>\n",
       "<table border=\"1\" class=\"dataframe\">\n",
       "  <thead>\n",
       "    <tr style=\"text-align: right;\">\n",
       "      <th></th>\n",
       "      <th>head_name</th>\n",
       "      <th>head_cui</th>\n",
       "      <th>rel</th>\n",
       "      <th>tail_name</th>\n",
       "      <th>tail_cui</th>\n",
       "    </tr>\n",
       "  </thead>\n",
       "  <tbody>\n",
       "    <tr>\n",
       "      <th>20853</th>\n",
       "      <td>Swelling</td>\n",
       "      <td>C0038999</td>\n",
       "      <td>associated_morphology_of</td>\n",
       "      <td>Swollen abdomen</td>\n",
       "      <td>C0000731</td>\n",
       "    </tr>\n",
       "    <tr>\n",
       "      <th>20854</th>\n",
       "      <td>Swelling</td>\n",
       "      <td>C0038999</td>\n",
       "      <td>associated_morphology_of</td>\n",
       "      <td>Swollen abdomen</td>\n",
       "      <td>C0000731</td>\n",
       "    </tr>\n",
       "    <tr>\n",
       "      <th>20855</th>\n",
       "      <td>Swelling</td>\n",
       "      <td>C0038999</td>\n",
       "      <td>associated_morphology_of</td>\n",
       "      <td>Swollen abdomen</td>\n",
       "      <td>C0000731</td>\n",
       "    </tr>\n",
       "    <tr>\n",
       "      <th>21701</th>\n",
       "      <td>Mass</td>\n",
       "      <td>C0577559</td>\n",
       "      <td>associated_morphology_of</td>\n",
       "      <td>Abdominal mass</td>\n",
       "      <td>C0000734</td>\n",
       "    </tr>\n",
       "    <tr>\n",
       "      <th>21702</th>\n",
       "      <td>Mass</td>\n",
       "      <td>C0577559</td>\n",
       "      <td>associated_morphology_of</td>\n",
       "      <td>Abdominal mass</td>\n",
       "      <td>C0000734</td>\n",
       "    </tr>\n",
       "  </tbody>\n",
       "</table>\n",
       "</div>"
      ],
      "text/plain": [
       "      head_name  head_cui                       rel        tail_name  tail_cui\n",
       "20853  Swelling  C0038999  associated_morphology_of  Swollen abdomen  C0000731\n",
       "20854  Swelling  C0038999  associated_morphology_of  Swollen abdomen  C0000731\n",
       "20855  Swelling  C0038999  associated_morphology_of  Swollen abdomen  C0000731\n",
       "21701      Mass  C0577559  associated_morphology_of   Abdominal mass  C0000734\n",
       "21702      Mass  C0577559  associated_morphology_of   Abdominal mass  C0000734"
      ]
     },
     "execution_count": 9,
     "metadata": {},
     "output_type": "execute_result"
    }
   ],
   "source": [
    "final_df = rel_df.rename(\n",
    "    columns={\n",
    "        \"STR2\": \"head_name\",\n",
    "        \"CUI2\": \"head_cui\",\n",
    "        \"RELA\": \"rel\",\n",
    "        \"STR1\": \"tail_name\",\n",
    "        \"CUI1\": \"tail_cui\",\n",
    "    }\n",
    ")[[\"head_name\", \"head_cui\", \"rel\", \"tail_name\", \"tail_cui\"]]\n",
    "final_df.head()"
   ]
  },
  {
   "cell_type": "code",
   "execution_count": 10,
   "metadata": {},
   "outputs": [],
   "source": [
    "def map_names_2_cuis(item):\n",
    "    tail_names = item[\"tail_names\"]\n",
    "    tail_names_list = item[\"tail_names_list\"]\n",
    "    tail_cuis_list = item[\"tail_cuis_list\"]\n",
    "    name2cui = {}\n",
    "    for name, cui in zip(tail_names_list, tail_cuis_list):\n",
    "        name2cui[name] = cui\n",
    "    tail_cuis = []\n",
    "    for name in tail_names:\n",
    "        tail_cuis.append(name2cui[name])\n",
    "    return tail_cuis\n",
    "\n",
    "\n",
    "unique_query_with = (\n",
    "    final_df.groupby([\"head_cui\", \"head_name\", \"rel\"])[\"tail_cui\"]\n",
    "    .apply(list)\n",
    "    .rename(\"tail_cuis_list\")\n",
    "    .reset_index()\n",
    ")\n",
    "unique_query_with.loc[:, \"tail_names_list\"] = (\n",
    "    final_df.groupby([\"head_cui\", \"head_name\", \"rel\"])[\"tail_name\"]\n",
    "    .apply(list)\n",
    "    .rename(\"tail_names_list\")\n",
    "    .reset_index()[\"tail_names_list\"]\n",
    ")\n",
    "unique_query_with.loc[:, \"tail_names\"] = (\n",
    "    final_df.groupby([\"head_cui\", \"head_name\", \"rel\"])[\"tail_name\"]\n",
    "    .unique()\n",
    "    .rename(\"tail_names\")\n",
    "    .reset_index()[\"tail_names\"]\n",
    ")\n",
    "unique_query_with.loc[:, \"tail_cuis\"] = unique_query_with.apply(\n",
    "    map_names_2_cuis, axis=1\n",
    ")\n",
    "# unique_query_with.loc[:,\"num_tail_cuis\"] = unique_query_with[\"tail_cuis\"].apply(len)\n",
    "unique_query_with.loc[:, \"tail_cuis_len\"] = unique_query_with[\"tail_cuis\"].apply(len)\n",
    "unique_query_with.loc[:, \"tail_names_len\"] = unique_query_with[\"tail_names\"].apply(len)"
   ]
  },
  {
   "cell_type": "code",
   "execution_count": 11,
   "metadata": {},
   "outputs": [],
   "source": [
    "unique_query_with.loc[:, \"tail_names\"] = unique_query_with[\"tail_names\"].apply(\n",
    "    lambda x: \" || \".join(x)\n",
    ")\n",
    "unique_query_with.loc[:, \"tail_cuis\"] = unique_query_with[\"tail_cuis\"].apply(\n",
    "    lambda x: \" || \".join(x)\n",
    ")"
   ]
  },
  {
   "cell_type": "code",
   "execution_count": 12,
   "metadata": {},
   "outputs": [],
   "source": [
    "from rouge import Rouge\n",
    "\n",
    "rouge = Rouge()\n",
    "\n",
    "\n",
    "def get_rouge(item):\n",
    "    hypothesis = item[\"head_name\"]\n",
    "    references = item[\"tail_names\"].split(\"||\")\n",
    "    scores = 0\n",
    "    for reference in references:\n",
    "        score = rouge.get_scores(hypothesis.lower(), reference.lower())\n",
    "        scores += score[0][\"rouge-l\"][\"f\"]\n",
    "    return scores / len(references)\n",
    "\n",
    "\n",
    "def get_avg_match(item):\n",
    "    hypothesis = item[\"head_name\"]\n",
    "    references = item[\"tail_names\"].split(\"||\")\n",
    "    score = 0\n",
    "    for reference in references:\n",
    "        if reference.lower() in hypothesis.lower():\n",
    "            score += 1\n",
    "    return score / len(references)\n",
    "\n",
    "\n",
    "unique_query_with[\"avg_match\"] = unique_query_with.apply(get_avg_match, axis=1)\n",
    "unique_query_with[\"avg_rouge_l\"] = unique_query_with.apply(get_rouge, axis=1)"
   ]
  },
  {
   "cell_type": "code",
   "execution_count": 13,
   "metadata": {},
   "outputs": [
    {
     "data": {
      "text/plain": [
       "rel\n",
       "associated_morphology_of                          1943\n",
       "disease_has_abnormal_cell                        11942\n",
       "disease_has_associated_anatomic_site             14322\n",
       "disease_has_normal_cell_origin                   10199\n",
       "disease_has_normal_tissue_origin                 10916\n",
       "disease_mapped_to_gene                            2856\n",
       "disease_may_have_associated_disease               1309\n",
       "disease_may_have_finding                          5138\n",
       "disease_may_have_molecular_abnormality            3096\n",
       "gene_associated_with_disease                      1360\n",
       "gene_encodes_gene_product                         5367\n",
       "gene_product_encoded_by_gene                      6187\n",
       "gene_product_has_associated_anatomy               3695\n",
       "gene_product_has_biochemical_function             3402\n",
       "gene_product_plays_role_in_biological_process     5913\n",
       "has_physiologic_effect                            4819\n",
       "may_prevent                                       1747\n",
       "may_treat                                         3864\n",
       "occurs_after                                      5831\n",
       "dtype: int64"
      ]
     },
     "execution_count": 13,
     "metadata": {},
     "output_type": "execute_result"
    }
   ],
   "source": [
    "unique_query_with = unique_query_with[unique_query_with[\"tail_names_len\"] <= 10]\n",
    "unique_query_with.groupby(\"rel\").size()"
   ]
  },
  {
   "cell_type": "code",
   "execution_count": 14,
   "metadata": {},
   "outputs": [
    {
     "data": {
      "text/plain": [
       "rel\n",
       "associated_morphology_of                         0.128277\n",
       "disease_has_abnormal_cell                        0.000436\n",
       "disease_has_associated_anatomic_site             0.091761\n",
       "disease_has_normal_cell_origin                   0.036840\n",
       "disease_has_normal_tissue_origin                 0.011427\n",
       "disease_mapped_to_gene                           0.000350\n",
       "disease_may_have_associated_disease              0.003565\n",
       "disease_may_have_finding                         0.000000\n",
       "disease_may_have_molecular_abnormality           0.000000\n",
       "gene_associated_with_disease                     0.000000\n",
       "gene_encodes_gene_product                        0.003109\n",
       "gene_product_encoded_by_gene                     0.001587\n",
       "gene_product_has_associated_anatomy              0.009120\n",
       "gene_product_has_biochemical_function            0.126984\n",
       "gene_product_plays_role_in_biological_process    0.006566\n",
       "has_physiologic_effect                           0.000000\n",
       "may_prevent                                      0.064682\n",
       "may_treat                                        0.004788\n",
       "occurs_after                                     0.114123\n",
       "Name: avg_match, dtype: float64"
      ]
     },
     "execution_count": 14,
     "metadata": {},
     "output_type": "execute_result"
    }
   ],
   "source": [
    "unique_query_with.groupby([\"rel\"])[\"avg_match\"].mean()"
   ]
  },
  {
   "cell_type": "code",
   "execution_count": 17,
   "metadata": {},
   "outputs": [
    {
     "name": "stdout",
     "output_type": "stream",
     "text": [
      "disease_has_normal_tissue_origin 10916\n",
      "hard- disease_has_normal_tissue_origin 842\n",
      "disease_has_normal_cell_origin 10199\n",
      "hard- disease_has_normal_cell_origin 812\n",
      "disease_may_have_molecular_abnormality 3096\n",
      "hard- disease_may_have_molecular_abnormality 989\n",
      "disease_has_associated_anatomic_site 14322\n",
      "hard- disease_has_associated_anatomic_site 726\n",
      "gene_product_has_associated_anatomy 3695\n",
      "hard- gene_product_has_associated_anatomy 956\n",
      "gene_product_has_biochemical_function 3402\n",
      "hard- gene_product_has_biochemical_function 491\n",
      "may_prevent 1747\n",
      "hard- may_prevent 861\n",
      "disease_may_have_associated_disease 1309\n",
      "hard- disease_may_have_associated_disease 842\n",
      "gene_associated_with_disease 1360\n",
      "hard- gene_associated_with_disease 997\n",
      "disease_mapped_to_gene 2856\n",
      "hard- disease_mapped_to_gene 984\n",
      "disease_has_abnormal_cell 11942\n",
      "hard- disease_has_abnormal_cell 778\n",
      "gene_product_plays_role_in_biological_process 5913\n",
      "hard- gene_product_plays_role_in_biological_process 888\n",
      "occurs_after 5831\n",
      "hard- occurs_after 623\n",
      "has_physiologic_effect 4819\n",
      "hard- has_physiologic_effect 983\n",
      "may_treat 3864\n",
      "hard- may_treat 977\n",
      "gene_product_encoded_by_gene 6187\n",
      "hard- gene_product_encoded_by_gene 649\n",
      "gene_encodes_gene_product 5367\n",
      "hard- gene_encodes_gene_product 821\n",
      "associated_morphology_of 1943\n",
      "hard- associated_morphology_of 158\n",
      "disease_may_have_finding 5138\n",
      "hard- disease_may_have_finding 952\n"
     ]
    }
   ],
   "source": [
    "save_dir = \"./by_relation_1k/\"\n",
    "import os\n",
    "\n",
    "os.makedirs(save_dir, exist_ok=True)\n",
    "for source in selected_rels:\n",
    "    source_df = unique_query_with[unique_query_with[\"rel\"] == source]\n",
    "    print(source, len(source_df.index))\n",
    "    sample_df = source_df.sample(sampled_num, random_state=random_state)\n",
    "    sample_df.to_csv(f\"{save_dir}{source}_{sampled_num}.csv\", index=None)\n",
    "    sample_df = sample_df[sample_df[\"avg_match\"] < 0.1]\n",
    "    sample_df = sample_df[sample_df[\"avg_rouge_l\"] < 0.1]\n",
    "    hard_sampled_num = len(sample_df.index)\n",
    "    print(\"hard-\", source, hard_sampled_num)\n",
    "    sample_df.to_csv(f\"{save_dir}{source}_{hard_sampled_num}_hard.csv\", index=None)"
   ]
  }
 ],
 "metadata": {
  "kernelspec": {
   "display_name": "knowledge",
   "language": "python",
   "name": "knowledge"
  },
  "language_info": {
   "codemirror_mode": {
    "name": "ipython",
    "version": 3
   },
   "file_extension": ".py",
   "mimetype": "text/x-python",
   "name": "python",
   "nbconvert_exporter": "python",
   "pygments_lexer": "ipython3",
   "version": "3.8.5"
  }
 },
 "nbformat": 4,
 "nbformat_minor": 5
}
